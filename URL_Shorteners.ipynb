{
 "cells": [
  {
   "cell_type": "code",
   "execution_count": 3,
   "id": "0b3c8e74-02e1-4723-a78d-4de269521eaf",
   "metadata": {},
   "outputs": [
    {
     "name": "stdin",
     "output_type": "stream",
     "text": [
      "Enter the url:  https://www.amazon.in/Fire-Boltt-Bluetooth-Calling-Assistance-Resolution/dp/B0BF57RN3K/ref=sr_1_1?_encoding=UTF8&content-id=amzn1.sym.120c97ab-3ac1-45d5-b3b8-e0713526c217&pd_rd_r=ddf6ccd8-2330-4388-90ff-c74cdb908472&pd_rd_w=0gOhk&pd_rd_wg=L4jhz&pf_rd_p=120c97ab-3ac1-45d5-b3b8-e0713526c217&pf_rd_r=VCA0XJ0P47ZAFPTFEA4S&qid=1692380996&sr=8-1\n"
     ]
    },
    {
     "name": "stdout",
     "output_type": "stream",
     "text": [
      "https://tinyurl.com/26oacvpe\n"
     ]
    }
   ],
   "source": [
    "import pyshorteners\n",
    "\n",
    "\n",
    "url=input(\"Enter the url: \")\n",
    "\n",
    "def shortenurl(url):\n",
    "    s=pyshorteners.Shortener()\n",
    "    print(s.tinyurl.short(url))\n",
    "\n",
    "shortenurl(url)\n"
   ]
  },
  {
   "cell_type": "code",
   "execution_count": null,
   "id": "a82ebf0e-b032-4a03-ac64-03c02236873b",
   "metadata": {},
   "outputs": [],
   "source": []
  },
  {
   "cell_type": "code",
   "execution_count": null,
   "id": "7af4d5f1-646d-4114-b2c8-beb27281e737",
   "metadata": {},
   "outputs": [],
   "source": []
  }
 ],
 "metadata": {
  "kernelspec": {
   "display_name": "Python 3 (ipykernel)",
   "language": "python",
   "name": "python3"
  },
  "language_info": {
   "codemirror_mode": {
    "name": "ipython",
    "version": 3
   },
   "file_extension": ".py",
   "mimetype": "text/x-python",
   "name": "python",
   "nbconvert_exporter": "python",
   "pygments_lexer": "ipython3",
   "version": "3.11.1"
  }
 },
 "nbformat": 4,
 "nbformat_minor": 5
}
